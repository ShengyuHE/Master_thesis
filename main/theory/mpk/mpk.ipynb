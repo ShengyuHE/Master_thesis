{
 "cells": [
  {
   "cell_type": "code",
   "execution_count": 1,
   "metadata": {},
   "outputs": [],
   "source": [
    "import itertools\n",
    "import csv\n",
    "import numpy as np\n",
    "import pandas as pd\n",
    "from astropy.io import fits\n",
    "from scipy import interpolate, linalg, optimize, special, stats\n",
    "import matplotlib.pyplot as plt\n",
    "\n",
    "# Example of using pandas to read a CSV file\n",
    "# df = pd.read_csv('filename.csv')\n",
    "\n",
    "# Example of using astropy to open a FITS file\n",
    "# with fits.open('filename.fits') as hdul:\n",
    "#     hdul.info()\n",
    "\n",
    "# Example of using scipy for interpolation\n",
    "# x = np.arange(0, 10)\n",
    "# y = np.exp(x)\n",
    "# f = interpolate.interp1d(x, y)\n",
    "\n",
    "# Example of plotting with matplotlib\n",
    "# plt.plot(x, y)\n",
    "# plt.show()"
   ]
  },
  {
   "cell_type": "code",
   "execution_count": 5,
   "metadata": {},
   "outputs": [],
   "source": [
    "import classy\n",
    "from scipy.integrate import trapz\n",
    "\n",
    "# Example of using CAMB to calculate cosmological parameters\n",
    "# params = camb.CAMBparams()\n",
    "# params.set_cosmology(H0=67.5, ombh2=0.022, omch2=0.122)\n",
    "# results = camb.get_results(params)\n",
    "# powers = results.get_cmb_power_spectra(params, CMB_unit='muK')\n",
    "# total_cls = powers['total']\n",
    "# ls = np.arange(total_cls.shape[0])\n",
    "\n",
    "# Example of defining a function that utilizes scipy.integrate.trapz for trapezoidal integration\n",
    "def trapz_integration(x, f, axis=0):\n",
    "    return trapz(f, x, axis=axis)\n",
    "\n",
    "# Example of using the trapz_integration function\n",
    "# x = np.linspace(0, 10, 500)\n",
    "# y = np.sin(x)\n",
    "# integral = trapz_integration(x, y)"
   ]
  },
  {
   "cell_type": "code",
   "execution_count": 10,
   "metadata": {},
   "outputs": [
    {
     "ename": "TypeError",
     "evalue": "unsupported operand type(s) for ^: 'float' and 'int'",
     "output_type": "error",
     "traceback": [
      "\u001b[0;31m---------------------------------------------------------------------------\u001b[0m",
      "\u001b[0;31mTypeError\u001b[0m                                 Traceback (most recent call last)",
      "\u001b[0;32m/var/folders/n0/gs1g7p590qg7trf8pp8w29ch0000gn/T/ipykernel_19394/2854412973.py\u001b[0m in \u001b[0;36m<module>\u001b[0;34m\u001b[0m\n\u001b[1;32m     11\u001b[0m \u001b[0mT0\u001b[0m  \u001b[0;34m=\u001b[0m \u001b[0;36m2.7255\u001b[0m\u001b[0;34m\u001b[0m\u001b[0;34m\u001b[0m\u001b[0m\n\u001b[1;32m     12\u001b[0m \u001b[0;34m\u001b[0m\u001b[0m\n\u001b[0;32m---> 13\u001b[0;31m \u001b[0mOmega_m\u001b[0m \u001b[0;34m=\u001b[0m \u001b[0;34m(\u001b[0m\u001b[0momegab\u001b[0m\u001b[0;34m+\u001b[0m\u001b[0momagec\u001b[0m\u001b[0;34m+\u001b[0m\u001b[0mMnu\u001b[0m\u001b[0;34m/\u001b[0m\u001b[0;36m94\u001b[0m\u001b[0;34m)\u001b[0m\u001b[0;34m/\u001b[0m\u001b[0mh\u001b[0m\u001b[0;34m^\u001b[0m\u001b[0;36m2\u001b[0m\u001b[0;34m\u001b[0m\u001b[0;34m\u001b[0m\u001b[0m\n\u001b[0m\u001b[1;32m     14\u001b[0m \u001b[0mOmega_L\u001b[0m \u001b[0;34m=\u001b[0m \u001b[0;36m1\u001b[0m \u001b[0;34m-\u001b[0m \u001b[0mOmega_m\u001b[0m\u001b[0;34m\u001b[0m\u001b[0;34m\u001b[0m\u001b[0m\n",
      "\u001b[0;31mTypeError\u001b[0m: unsupported operand type(s) for ^: 'float' and 'int'"
     ]
    }
   ],
   "source": [
    "tau   = 0.0543\n",
    "As  = np.exp(3.0448)*1e-10\n",
    "ns  = 0.96605\n",
    "H0  = 67.32\n",
    "h   = H0/100\n",
    "omegab  = 0.022383\n",
    "omagec  = 0.12011\n",
    "Mnu = 0.06\n",
    "\n",
    "kp  = 0.05\n",
    "T0  = 2.7255\n",
    "\n",
    "Omega_m = (omegab+omagec+Mnu/94)/h^2\n",
    "Omega_L = 1 - Omega_m"
   ]
  }
 ],
 "metadata": {
  "kernelspec": {
   "display_name": "base",
   "language": "python",
   "name": "python3"
  },
  "language_info": {
   "codemirror_mode": {
    "name": "ipython",
    "version": 3
   },
   "file_extension": ".py",
   "mimetype": "text/x-python",
   "name": "python",
   "nbconvert_exporter": "python",
   "pygments_lexer": "ipython3",
   "version": "3.9.13"
  }
 },
 "nbformat": 4,
 "nbformat_minor": 2
}
