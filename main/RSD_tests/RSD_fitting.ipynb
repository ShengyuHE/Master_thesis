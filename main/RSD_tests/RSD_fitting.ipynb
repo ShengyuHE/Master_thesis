{
 "cells": [
  {
   "cell_type": "code",
   "execution_count": 1,
   "metadata": {},
   "outputs": [],
   "source": [
    "import os\n",
    "import numpy as np\n",
    "from numpy import array\n",
    "import matplotlib\n",
    "import matplotlib.gridspec as gridspec\n",
    "from matplotlib import pyplot as plt\n",
    "%config InlineBackend.figure_format = 'retina'\n",
    "%matplotlib inline"
   ]
  },
  {
   "cell_type": "code",
   "execution_count": 6,
   "metadata": {},
   "outputs": [],
   "source": [
    "# from mockfactory import Catalog\n",
    "from cosmoprimo.fiducial import DESI\n",
    "from desilike.theories.galaxy_clustering import DirectPowerSpectrumTemplate, ShapeFitPowerSpectrumTemplate, StandardPowerSpectrumTemplate\n",
    "from desilike.theories.galaxy_clustering import KaiserTracerPowerSpectrumMultipoles, TNSTracerPowerSpectrumMultipoles, FOLPSTracerPowerSpectrumMultipoles\n",
    "from desilike.observables.galaxy_clustering import TracerPowerSpectrumMultipolesObservable\n",
    "from desilike.emulators import EmulatedCalculator, Emulator, TaylorEmulatorEngine\n",
    "from desilike.likelihoods import ObservablesGaussianLikelihood\n",
    "from desilike.samplers.emcee import EmceeSampler\n",
    "from desilike.samples import Profiles, plotting, Chain\n",
    "from desilike import setup_logging\n",
    "setup_logging()  # for logging messages\n",
    "\n",
    "kmin     = 0.008\n",
    "kmax     = 0.2\n",
    "binning  = 0.006\n",
    "k_ev     = np.arange(kmin, kmax+0.001, binning)\n",
    "klim     = {ell*2: (kmin,kmax,binning) for ell in range(2)}\n",
    "\n",
    "# the cosmology parameters\n",
    "redshift    = 1.0\n",
    "catalogue   = 'fiducial'  # fiducial, Mnu_p, Mnu_ppp -- QUIJOTE catalogue\n",
    "r_pk        = 'RSD'  # RSD, LRG, QSQ, CATAS-- systematics\n",
    "CovRsf      = 25  # -- covariance rescale factor\n",
    "model       = 'FOLPS' # Kaiser, TNS, FOLPS\n",
    "fitting     = 'FM' #FM, SF, STD\n",
    "emulator_fn = f'./model/emulator_{model}_z{redshift}_{fitting}.npy'\n",
    "chain_fn = f'./sampler_result/chain_{model}_V{CovRsf}_z{redshift}_{fitting}.npy'\n",
    "\n",
    "if not os.path.exists(chain_fn):\n",
    "    filename = []\n",
    "    filedir = f'/Users/alain/Desktop/projectNU/main/data/kbin2/fiducial/{r_pk}_z{redshift}/npy/'\n",
    "    for file in os.listdir(filedir):\n",
    "        filename.append(filedir+file)\n",
    "    covariance = filedir+'*'\n",
    "    if model == 'Kaiser':\n",
    "        theory = KaiserTracerPowerSpectrumMultipoles(pt=EmulatedCalculator.load(emulator_fn))\n",
    "    elif model == 'TNS':\n",
    "        theory = TNSTracerPowerSpectrumMultipoles(pt=EmulatedCalculator.load(emulator_fn))\n",
    "    elif model == 'FOLPS':\n",
    "        theory = FOLPSTracerPowerSpectrumMultipoles(pt=EmulatedCalculator.load(emulator_fn))\n",
    "    observable = TracerPowerSpectrumMultipolesObservable(data= filename,\n",
    "                                                        covariance= covariance,\n",
    "                                                        klim=klim,\n",
    "                                                        theory=theory,\n",
    "                                                        # kin=np.arange(0.001,0.35,0.002)\n",
    "                                                        )\n",
    "    likelihood = ObservablesGaussianLikelihood(observable, scale_covariance = 1/CovRsf) #\n",
    "    likelihood()\n",
    "    sampler = EmceeSampler(likelihood, seed=42, nwalkers=120, save_fn =chain_fn)\n",
    "    sampler.run(check={'max_eigen_gr': 0.05}, max_iterations = 9001) # save every 300 iterations"
   ]
  },
  {
   "cell_type": "code",
   "execution_count": 3,
   "metadata": {},
   "outputs": [
    {
     "name": "stdout",
     "output_type": "stream",
     "text": [
      "[000000.01] [0/1] 06-20 12:54  Chain                     INFO     Loading ./sampler_result/chain_FOLPS_V25_z1.0_STD.npy.\n",
      "Chain(shape=(3000, 120), params=ParameterCollection(['qiso', 'qap', 'df', 'b1', 'b2', 'bs', 'alpha0', 'alpha2', 'sn0', 'sn2', 'logposterior', 'b3', 'alpha4', 'ct', 'loglikelihood', 'logprior']))\n",
      "[000000.54] [0/1] 06-20 12:54  StandardCompressionObservable INFO     Found quantities ['qap', 'qiso', 'df'].\n",
      "[000044.26] [0/1] 06-20 12:54  Emulator                  INFO     Varied parameters: ['h', 'omega_cdm', 'omega_b', 'logA'].\n",
      "[000044.26] [0/1] 06-20 12:54  Emulator                  INFO     Found varying ['flattheory'] and fixed ['flatdata', 'covariance', 'quantities'] outputs.\n",
      "[000050.25] [0/1] 06-20 12:54  Differentiation           INFO     Varied parameters: ['h', 'omega_cdm', 'omega_b', 'logA'].\n",
      "[000081.30] [0/1] 06-20 12:55  Differentiation           INFO     Using finite-differentiation for parameter h.\n",
      "[000087.03] [0/1] 06-20 12:55  Differentiation           INFO     Using finite-differentiation for parameter omega_cdm.\n",
      "[000092.73] [0/1] 06-20 12:55  Differentiation           INFO     Using finite-differentiation for parameter omega_b.\n",
      "[000098.42] [0/1] 06-20 12:55  Differentiation           INFO     Using finite-differentiation for parameter logA.\n",
      "[000098.43] [0/1] 06-20 12:55  Differentiation           INFO     h grid is [0.6136 0.6436 0.6736 0.7036 0.7336].\n",
      "[000098.43] [0/1] 06-20 12:55  Differentiation           INFO     omega_cdm grid is [0.1  0.11 0.12 0.13 0.14].\n",
      "[000098.43] [0/1] 06-20 12:55  Differentiation           INFO     omega_b grid is [0.01937 0.02087 0.02237 0.02387 0.02537].\n",
      "[000098.44] [0/1] 06-20 12:55  Differentiation           INFO     logA grid is [2.93639426 2.98639426 3.03639426 3.08639426 3.13639426].\n",
      "[000098.44] [0/1] 06-20 12:55  Differentiation           INFO     Differentiation will evaluate 73 points.\n",
      "[000524.90] [0/1] 06-20 13:02  EmceeSampler              INFO     Varied parameters: ['h', 'omega_cdm', 'omega_b', 'logA'].\n",
      "[000525.22] [0/1] 06-20 13:02  EmceeSampler              INFO     Successfully vmap input likelihood.\n",
      "[000525.41] [0/1] 06-20 13:02  EmceeSampler              INFO     Successfully jit input likelihood.\n",
      "[000525.69] [0/1] 06-20 13:02  TaskManager               INFO     Entering TaskManager with 1 workers.\n",
      "[000530.75] [0/1] 06-20 13:02  Chain                     INFO     Saving ./sampler_result/chain_FOLPS_V25_z1.0_STD_compression.\n",
      "[000530.76] [0/1] 06-20 13:02  EmceeSampler              INFO     Diagnostics:\n",
      "[000530.82] [0/1] 06-20 13:02  Diagnostics               INFO     - max eigen Gelman-Rubin - 1 is 0.0151; < 0.05.\n",
      "[000530.85] [0/1] 06-20 13:02  Diagnostics               INFO     - max diag Gelman-Rubin - 1 is 0.00482.\n",
      "[000531.00] [0/1] 06-20 13:02  Diagnostics               INFO     - max diag Gelman-Rubin - 1 at 1.0 sigmas is 0.0313.\n",
      "[000531.02] [0/1] 06-20 13:02  Diagnostics               INFO     - max Geweke is 0.163.\n",
      "[000531.03] [0/1] 06-20 13:02  Diagnostics               INFO     - Geweke p-value is 0.00444.\n"
     ]
    },
    {
     "name": "stderr",
     "output_type": "stream",
     "text": [
      "/Users/alain/opt/anaconda3/envs/desilike-env/lib/python3.11/site-packages/scipy/stats/_axis_nan_policy.py:531: UserWarning: kurtosistest only valid for n>=20 ... continuing anyway, n=16\n",
      "  res = hypotest_fun_out(*samples, **kwds)\n"
     ]
    },
    {
     "name": "stdout",
     "output_type": "stream",
     "text": [
      "[000531.44] [0/1] 06-20 13:02  Diagnostics               INFO     - effective sample size = (150 iterations / integrated autocorrelation time) is 12.\n",
      "[000531.47] [0/1] 06-20 13:02  Diagnostics               INFO     - current mean acceptance rate is 0.595.\n",
      "[000531.49] [0/1] 06-20 13:02  TaskManager               INFO     Entering TaskManager with 1 workers.\n",
      "[000536.36] [0/1] 06-20 13:02  Chain                     INFO     Saving ./sampler_result/chain_FOLPS_V25_z1.0_STD_compression.\n",
      "[000536.39] [0/1] 06-20 13:02  EmceeSampler              INFO     Diagnostics:\n",
      "[000536.43] [0/1] 06-20 13:02  Diagnostics               INFO     - max eigen Gelman-Rubin - 1 is 0.0189; < 0.05.\n",
      "[000536.47] [0/1] 06-20 13:02  Diagnostics               INFO     - max diag Gelman-Rubin - 1 is 0.0054.\n",
      "[000536.65] [0/1] 06-20 13:02  Diagnostics               INFO     - max diag Gelman-Rubin - 1 at 1.0 sigmas is 0.0231.\n",
      "[000536.66] [0/1] 06-20 13:02  Diagnostics               INFO     - max Geweke is 0.154.\n",
      "[000536.67] [0/1] 06-20 13:02  Diagnostics               INFO     - Geweke p-value is 0.258.\n"
     ]
    },
    {
     "name": "stderr",
     "output_type": "stream",
     "text": [
      "/Users/alain/opt/anaconda3/envs/desilike-env/lib/python3.11/site-packages/scipy/stats/_axis_nan_policy.py:531: UserWarning: kurtosistest only valid for n>=20 ... continuing anyway, n=16\n",
      "  res = hypotest_fun_out(*samples, **kwds)\n"
     ]
    },
    {
     "name": "stdout",
     "output_type": "stream",
     "text": [
      "[000537.07] [0/1] 06-20 13:02  Diagnostics               INFO     - effective sample size = (300 iterations / integrated autocorrelation time) is 14.9.\n",
      "[000537.08] [0/1] 06-20 13:02  Diagnostics               INFO     - max variation of integrated autocorrelation time is 0.387.\n",
      "[000537.08] [0/1] 06-20 13:02  Diagnostics               INFO     - current mean acceptance rate is 0.589.\n"
     ]
    }
   ],
   "source": [
    "# fitting compression \n",
    "import os\n",
    "from desilike.observables.galaxy_clustering import ShapeFitCompressionObservable, StandardCompressionObservable\n",
    "from desilike.emulators import Emulator, TaylorEmulatorEngine\n",
    "from desilike.samplers.emcee import EmceeSampler\n",
    "from desilike.likelihoods import ObservablesGaussianLikelihood\n",
    "from desilike.samples import Profiles, plotting, Chain\n",
    "from desilike import setup_logging\n",
    "setup_logging()  # for logging messages\n",
    "\n",
    "fitting = 'STD'\n",
    "compression_fn = f'./sampler_result/chain_FOLPS_V25_z1.0_{fitting}_compression'\n",
    "\n",
    "if not os.path.exists(compression_fn):\n",
    "    chain = Chain.load(f'./sampler_result/chain_FOLPS_V25_z1.0_{fitting}.npy').remove_burnin(0.5)\n",
    "    print(chain)\n",
    "    if fitting == 'SF':\n",
    "        quantities = ['qap', 'qiso', 'df', 'dm']\n",
    "        observable = ShapeFitCompressionObservable(data=chain, covariance=chain, z=1.0, quantities=quantities)\n",
    "    elif fitting == 'STD':\n",
    "        quantities = ['qap', 'qiso', 'df']\n",
    "        observable = StandardCompressionObservable(data=chain, covariance=chain, z=1.0, quantities=quantities)\n",
    "    emulator = Emulator(observable, engine=TaylorEmulatorEngine(order=3))\n",
    "    emulator.set_samples()\n",
    "    emulator.fit()\n",
    "    likelihood = ObservablesGaussianLikelihood(observables=[emulator.to_calculator()])\n",
    "    sampler = EmceeSampler(likelihood, seed=42, nwalkers=120, save_fn =compression_fn)\n",
    "    sampler.run(check={'max_eigen_gr': 0.05}, max_iterations = 9001)"
   ]
  }
 ],
 "metadata": {
  "kernelspec": {
   "display_name": "desilike-env",
   "language": "python",
   "name": "python3"
  },
  "language_info": {
   "codemirror_mode": {
    "name": "ipython",
    "version": 3
   },
   "file_extension": ".py",
   "mimetype": "text/x-python",
   "name": "python",
   "nbconvert_exporter": "python",
   "pygments_lexer": "ipython3",
   "version": "3.1.-1"
  }
 },
 "nbformat": 4,
 "nbformat_minor": 2
}
